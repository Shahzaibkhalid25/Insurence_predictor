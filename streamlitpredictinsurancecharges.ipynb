{
 "cells": [
  {
   "cell_type": "markdown",
   "metadata": {},
   "source": [
    "# Predict insurance charges based on a person's attributes"
   ]
  },
  {
   "cell_type": "code",
   "execution_count": 10,
   "metadata": {},
   "outputs": [],
   "source": [
    "#!pip install numpy\n",
    "import pickle\n",
    "import numpy as np"
   ]
  },
  {
   "cell_type": "code",
   "execution_count": 11,
   "metadata": {},
   "outputs": [],
   "source": [
    "# load the model from disk\n",
    "loaded_model = pickle.load(open('streamlit_insurance_predictcharges.pkl', 'rb'))"
   ]
  },
  {
   "cell_type": "code",
   "execution_count": 12,
   "metadata": {},
   "outputs": [],
   "source": [
    "import streamlit as st"
   ]
  },
  {
   "cell_type": "code",
   "execution_count": 13,
   "metadata": {},
   "outputs": [
    {
     "data": {
      "text/plain": [
       "<streamlit.delta_generator.DeltaGenerator at 0x2e733298910>"
      ]
     },
     "execution_count": 13,
     "metadata": {},
     "output_type": "execute_result"
    }
   ],
   "source": [
    "# Creating the Titles and Image\n",
    "st.title(\"Predict insurance charges\")\n",
    "st.write(\"A prototype model created by Shahzaib Khalid(19MECSN06)\")\n",
    "st.header(\"Calculating the insurance charges that could be charged by an insurer based on a person's attributes\")"
   ]
  },
  {
   "cell_type": "code",
   "execution_count": 14,
   "metadata": {},
   "outputs": [],
   "source": [
    "import pandas as pd\n",
    "def load_data():\n",
    "    df = pd.DataFrame({'sex': ['Male','Female'],\n",
    "                       'smoker': ['Yes', 'No']}) \n",
    "    return df\n",
    "df = load_data()"
   ]
  },
  {
   "cell_type": "code",
   "execution_count": 15,
   "metadata": {},
   "outputs": [],
   "source": [
    "import pandas as pd\n",
    "def load_data():\n",
    "    df1 = pd.DataFrame({'region' : ['southeast' ,'northwest' ,'southwest' ,'northeast']}) \n",
    "    return df1\n",
    "df1 = load_data()"
   ]
  },
  {
   "cell_type": "code",
   "execution_count": 16,
   "metadata": {},
   "outputs": [],
   "source": [
    "# Take the users input\n",
    "\n",
    "sex = st.selectbox(\"Select Sex\", df['sex'].unique())\n",
    "smoker = st.selectbox(\"Are you a smoker\", df['smoker'].unique())\n",
    "region = st.selectbox(\"Which region do you belong to?\", df1['region'].unique())\n",
    "age = st.slider(\"What is your age?\", 18, 100)\n",
    "bmi = st.slider(\"What is your bmi?\", 10, 60)\n",
    "children = st.slider(\"Number of children\", 0, 10)\n",
    "\n",
    "# converting text input to numeric to get back predictions from backend model.\n",
    "if sex == 'male':\n",
    "    gender = 1\n",
    "else:\n",
    "    gender = 0\n",
    "    \n",
    "if smoker == 'yes':\n",
    "    smoke = 1\n",
    "else:\n",
    "    smoke = 0\n",
    "    \n",
    "if region == 'southeast':\n",
    "    reg = 2\n",
    "elif region == 'northwest':\n",
    "    reg = 3\n",
    "elif region == 'southwest':\n",
    "    reg = 1\n",
    "else:\n",
    "    reg = 0\n",
    "    \n",
    "\n",
    "# store the inputs\n",
    "features = [gender, smoke, reg, age, bmi, children]\n",
    "# convert user inputs into an array fr the model\n",
    "\n",
    "int_features = [int(x) for x in features]\n",
    "final_features = [np.array(int_features)]"
   ]
  },
  {
   "cell_type": "code",
   "execution_count": 17,
   "metadata": {},
   "outputs": [],
   "source": [
    "if st.button('Predict'):           # when the submit button is pressed\n",
    "    prediction =  loaded_model.predict(final_features)\n",
    "    st.balloons()\n",
    "    st.success(f'Your insurance charges would be: ${round(prediction[0],2)}')\n",
    "    "
   ]
  }
 ],
 "metadata": {
  "kernelspec": {
   "display_name": "Python 3",
   "language": "python",
   "name": "python3"
  },
  "language_info": {
   "codemirror_mode": {
    "name": "ipython",
    "version": 3
   },
   "file_extension": ".py",
   "mimetype": "text/x-python",
   "name": "python",
   "nbconvert_exporter": "python",
   "pygments_lexer": "ipython3",
   "version": "3.8.5"
  }
 },
 "nbformat": 4,
 "nbformat_minor": 2
}
